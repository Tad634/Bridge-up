{
 "cells": [
  {
   "cell_type": "code",
   "execution_count": 1,
   "metadata": {},
   "outputs": [],
   "source": [
    "# open files and read as string\n",
    "manatee = open(\"4a_CSN2_DNA.txt\").read()\n",
    "dolphin = open(\"4b_CSN2_DNA.txt\").read()\n",
    "cow = open(\"4c_CSN2_DNA.txt\").read()"
   ]
  },
  {
   "cell_type": "code",
   "execution_count": 2,
   "metadata": {},
   "outputs": [
    {
     "name": "stdout",
     "output_type": "stream",
     "text": [
      "390\n",
      "62.5\n"
     ]
    }
   ],
   "source": [
    "diff = 0\n",
    "for c,i in enumerate(manatee):\n",
    "    if i != cow[c]:\n",
    "        diff += 1\n",
    "        \n",
    "print(diff)\n",
    "print(diff / len(manatee) * 100)"
   ]
  },
  {
   "cell_type": "code",
   "execution_count": 3,
   "metadata": {},
   "outputs": [
    {
     "name": "stdout",
     "output_type": "stream",
     "text": [
      "398\n",
      "63.78205128205128\n"
     ]
    }
   ],
   "source": [
    "diff2 = 0\n",
    "for c,i in enumerate(manatee):\n",
    "    if i != dolphin[c]:\n",
    "        diff2 += 1\n",
    "print(diff2)        \n",
    "print(diff2 / len(manatee) * 100)"
   ]
  },
  {
   "cell_type": "code",
   "execution_count": 4,
   "metadata": {},
   "outputs": [
    {
     "name": "stdout",
     "output_type": "stream",
     "text": [
      "116\n",
      "18.58974358974359\n"
     ]
    }
   ],
   "source": [
    "diff3 = 0\n",
    "for c,i in enumerate(cow):\n",
    "    if i != dolphin[c]:\n",
    "        diff3 += 1\n",
    "print(diff3)        \n",
    "print(diff3 / len(cow) * 100)"
   ]
  },
  {
   "cell_type": "code",
   "execution_count": 5,
   "metadata": {},
   "outputs": [],
   "source": [
    "import matplotlib.pyplot as plt"
   ]
  },
  {
   "cell_type": "code",
   "execution_count": 6,
   "metadata": {},
   "outputs": [],
   "source": [
    "manacow = diff / len(manatee) * 100\n",
    "manadol = diff2 / len(manatee) * 100\n",
    "dolcow = diff3 / len(cow) * 100"
   ]
  },
  {
   "cell_type": "code",
   "execution_count": 80,
   "metadata": {},
   "outputs": [
    {
     "data": {
      "image/png": "[encoded data removed]",
      "text/plain": [
       "<Figure size 432x288 with 1 Axes>"
      ]
     },
     "metadata": {
      "needs_background": "light"
     },
     "output_type": "display_data"
    }
   ],
   "source": [
    "plt.bar([1,2,3], [manadol, manacow, dolcow],width = .5, color = (\"deepskyblue\", \"mediumspringgreen\", \"aquamarine\"))\n",
    "plt.xticks([1,2,3], [\"Manatee and Dolphin\", \"Manatee and Cow\", \"Dolphin and Cow\"])\n",
    "plt.title(\"Manatee, Dolphin, and Cow Differences(in percentage)\")\n",
    "plt.show()"
   ]
  },
  {
   "cell_type": "code",
   "execution_count": 8,
   "metadata": {},
   "outputs": [
    {
     "name": "stdout",
     "output_type": "stream",
     "text": [
      "AUGAAAGUCCUCAUCCUUGCCUGUCUGGUGGCUCUUGCUCUUGCAAGGGAGAAGGAAGAUACUGUAUCUACUAAGAGUGUAGACUAUUUUUCAAGCAGUGAGGAAUCUGUUACACAAAUUGACAAGCAAAAAUCUGAGAGGGUUAGACCUGAGGAACAGCAAAGAGAGGAUGAAUGCCAGGAUAAAAUCCAGCCCCUUUUCCAGCUGCAGCCUCUAGUCUAUCCUUACGCUGAGCCCAUUCCUUAUACCGUUGUUCCAUCAAGUGCCAUGCCUCCUGCUCAGCCUGUUGUGGUGCUGCCUUUCCUCCAGCCUGAAAUAAUGGAAUUCCCUGAAGCUAAAGAAACCAUCUUUCCUAGGCAAAAAGUGAUGUCCUUCCUUAAGUCUCCAAUAAUUUCCCCUGUUGACCCCCAGAUCCUGUAUCUCACUAAUCCUGAAAAUUUUCACCUUCCUCUGCCUCUGCUCCAGCCAUUAAGGCACCAGCUCCACCAGCCUCUUGCUCAGACUCCAGUGCUUCCUUCUCUCUCCUUGCCCAAAGUCCUGCCUGUUCCCCAGGAAGGGAUACCCUAUGCCCAGAGAGGUAUACCCAUCCAAGAGCCUCUACUUGACCCAGUCCGUGUGUUCCAC\n"
     ]
    }
   ],
   "source": [
    "RNAm = \"\"\n",
    "for i in manatee:\n",
    "    if i == \"A\":\n",
    "        RNAm += \"U\"\n",
    "    elif i == \"T\":\n",
    "        RNAm += \"A\"\n",
    "    elif i == \"G\":\n",
    "        RNAm += \"C\"\n",
    "    else:\n",
    "        RNAm += \"G\"\n",
    "print(RNAm)"
   ]
  },
  {
   "cell_type": "code",
   "execution_count": 9,
   "metadata": {},
   "outputs": [
    {
     "name": "stdout",
     "output_type": "stream",
     "text": [
      "AUGAAGGUCCUCAUCCUUGCCUGCUUGUUGGCUCUUGCCCUUGCAAGAGAGAAAGAAGAACUCAAUGUAUCCGGUGAGACUGUGAAAAGCCUUUCAAGCAGUGAAGAAUUUGUUACGCACAUCAACAAGAAAAUUGGGAAGUUUAAACAUGAGGAACAGCAGCAAACAGAGGAUGAACCCCAGGAUAAAAUCCACCACUUUUCCCAGCCACAGCCUCUAGUCUAUUCCUACACUGGGCCAAUCCCUUACCCUAUCCUUCGACAAAACAUCCUGCCUCUUGCUCAACCCCCUGUGGUGGUGCCUUUCUCUCAGCCUGAAAUAAUGGAAGUCCCCAAAGCUAAGGAGACUAUUCUUCCUAAGCAUAAAGAAAUACCCUUCCCUAAAUCUCCAGUAGAGCGCUUUAUUGAAAGCCAGAGCCUGACUCUCACUGAUCUUGAAAAUCUGCACCUUCCUCUGCCUCUGCUCGAGUCCUUGAUGCACCAGCCUCCCCAUCCUCUUCCUCCUACCCCCAUGUUUCCUCCUCAGCCCCUGCAGUCCCUUUCUCAGCACAAAGUCCUGCCUAUUCCCCAGCAAGUGGUGCCCUACCUCCAGAGAGAUAUGCCCAUCCAGGCCCUUCUGCUGUAC\n"
     ]
    }
   ],
   "source": [
    "RNAd = \"\"\n",
    "for i in dolphin:\n",
    "    if i == \"A\":\n",
    "        RNAd += \"U\"\n",
    "    elif i == \"T\":\n",
    "        RNAd += \"A\"\n",
    "    elif i == \"G\":\n",
    "        RNAd += \"C\"\n",
    "    else:\n",
    "        RNAd += \"G\"\n",
    "print(RNAd)"
   ]
  },
  {
   "cell_type": "code",
   "execution_count": 10,
   "metadata": {},
   "outputs": [
    {
     "name": "stdout",
     "output_type": "stream",
     "text": [
      "AUGAAGGUCCUCAUCCUUGCCUGCCUGGUGGCUCUGGCCCUUGCAAGAGAGCUGGAAGAACUCAAUGUACCGGGUGAGAUUGUGGAAAGCCUUUCAAGCAGUGAGGAAUCUAUUACACGCAUCAAUAAGAAAAUUGAGAAGUUUCAGAGUGAGGAACAGCAGCAAACAGAGGAUGAACUCCAGGAUAAAAUCCACCCCUUUGCCCAGACACAGUCUCUAGUCUAUCCCUUCCCUGGGCCCAUCCCUAACAGCCUCCCACAAAACAUCCCUCCUCUUACUCAAACCCCUGUGGUGGUGCCGCCUUUCCUUCAGCCUGAAGUACUGGGAGUCUCCAAAGUGAAGGAGGCUAUGGCUCCUAAGCACAAAGAAAUGCCCUUUCCUAAAUAUCCAGUUGAGCCCUUUACUGAAAGCCAGAGCUUGACUUUGACUGAUGUUGAAAAUCUUCAUUUGCCUCCUCUCUUGCUCCAGUCUUGGAUGCAUCAGCCUCACCAGCCUCUUCCUCCAACUGUCAUGUUUCCUCCUCAGUCCGUGCUGUCCCUUUCUCAGUCCAAAGUCCUGCCUGUUCCCCAGAAAGCAGUGCCCUAUCCCCAGAGAGAUAUGCCCAUUCAGGCCUUUCUGCUGUAC\n"
     ]
    }
   ],
   "source": [
    "RNAc = \"\"\n",
    "for i in cow:\n",
    "    if i == \"A\":\n",
    "        RNAc += \"U\"\n",
    "    elif i == \"T\":\n",
    "        RNAc += \"A\"\n",
    "    elif i == \"G\":\n",
    "        RNAc += \"C\"\n",
    "    else:\n",
    "        RNAc += \"G\"\n",
    "print(RNAc)"
   ]
  },
  {
   "cell_type": "code",
   "execution_count": 11,
   "metadata": {},
   "outputs": [],
   "source": [
    "codonDict = {\"UUU\":\"F\",\"UUC\":\"F\",\"UUA\":\"L\",\"UUG\":\"L\", \"CUU\":\"L\",\"CUC\":\"L\", \n",
    "             \"CUA\":\"L\",\"CUG\":\"L\",\"AUU\":\"I\",\"AUC\":\"I\",\"AUA\":\"I\",\"AUG\":\"M\",\n",
    "             \"GUU\":\"V\",\"GUC\":\"V\",\"GUA\":\"V\",\"GUG\":\"V\",\"UCU\":\"S\",\"UCC\":\"S\",\n",
    "             \"UCA\":\"S\",\"UCG\":\"S\",\"CCU\":\"P\",\"CCC\":\"P\",\"CCA\":\"P\",\"CCG\":\"P\",\n",
    "             \"ACU\":\"T\",\"ACC\":\"T\",\"ACA\":\"T\",\"ACG\":\"T\",\"GCU\":\"A\",\"GCC\":\"A\",\n",
    "             \"GCA\":\"A\",\"GCG\":\"A\",\"UAU\":\"Y\",\"UAC\":\"Y\",\"UAA\":\"STOP\",\"UAG\":\"STOP\",\n",
    "             \"UGA\":\"STOP\",\"CAU\":\"H\",\"CAC\":\"H\",\"CAA\":\"Q\",\"CAG\":\"Q\",\"AAU\":\"N\",\n",
    "             \"AAC\":\"N\",\"AAA\":\"K\",\"AAG\":\"K\",\"GAU\":\"D\",\"GAC\":\"D\",\"GAA\":\"E\",\n",
    "             \"GAG\":\"E\",\"UGU\":\"C\",\"UGC\":\"C\",\"UGG\":\"W\",\"CGU\":\"R\",\"CGC\":\"R\",\n",
    "             \"CGA\":\"R\",\"CGG\":\"R\",\"AGU\":\"S\",\"AGC\":\"S\",\"AGA\":\"R\",\"AGG\":\"R\",\n",
    "             \"GGU\":\"G\",\"GGC\":\"G\",\"GGA\":\"G\",\"GGG\":\"G\"}"
   ]
  },
  {
   "cell_type": "code",
   "execution_count": 12,
   "metadata": {},
   "outputs": [
    {
     "name": "stdout",
     "output_type": "stream",
     "text": [
      "MKVLILACLVALALARELEELNVPGEIVESLSSSEESITRINKKIEKFQSEEQQQTEDELQDKIHPFAQTQSLVYPFPGPIPNSLPQNIPPLTQTPVVVPPFLQPEVLGVSKVKEAMAPKHKEMPFPKYPVEPFTESQSLTLTDVENLHLPPLLLQSWMHQPHQPLPPTVMFPPQSVLSLSQSKVLPVPQKAVPYPQRDMPIQAFLLY\n"
     ]
    }
   ],
   "source": [
    "aac = \"\"\n",
    "codon = \"\"\n",
    "for i in RNAc:\n",
    "    if len(codon) != 3:\n",
    "        codon += i\n",
    "    if len(codon) == 3:\n",
    "        aac += codonDict[codon]\n",
    "        codon = \"\"\n",
    "print(aac)"
   ]
  },
  {
   "cell_type": "code",
   "execution_count": 13,
   "metadata": {},
   "outputs": [
    {
     "name": "stdout",
     "output_type": "stream",
     "text": [
      "MKVLILACLVALALAREKEDTVSTKSVDYFSSSEESVTQIDKQKSERVRPEEQQREDECQDKIQPLFQLQPLVYPYAEPIPYTVVPSSAMPPAQPVVVLPFLQPEIMEFPEAKETIFPRQKVMSFLKSPIISPVDPQILYLTNPENFHLPLPLLQPLRHQLHQPLAQTPVLPSLSLPKVLPVPQEGIPYAQRGIPIQEPLLDPVRVFH\n"
     ]
    }
   ],
   "source": [
    "aam = \"\"\n",
    "codon = \"\"\n",
    "for i in RNAm:\n",
    "    if len(codon) != 3:\n",
    "        codon += i\n",
    "    if len(codon) == 3:\n",
    "        aam += codonDict[codon]\n",
    "        codon = \"\"\n",
    "print(aam)"
   ]
  },
  {
   "cell_type": "code",
   "execution_count": 14,
   "metadata": {},
   "outputs": [
    {
     "name": "stdout",
     "output_type": "stream",
     "text": [
      "MKVLILACLLALALAREKEELNVSGETVKSLSSSEEFVTHINKKIGKFKHEEQQQTEDEPQDKIHHFSQPQPLVYSYTGPIPYPILRQNILPLAQPPVVVPFSQPEIMEVPKAKETILPKHKEIPFPKSPVERFIESQSLTLTDLENLHLPLPLLESLMHQPPHPLPPTPMFPPQPLQSLSQHKVLPIPQQVVPYLQRDMPIQALLLY\n"
     ]
    }
   ],
   "source": [
    "aad = \"\"\n",
    "codon = \"\"\n",
    "for i in RNAd:\n",
    "    if len(codon) != 3:\n",
    "        codon += i\n",
    "    if len(codon) == 3:\n",
    "        aad += codonDict[codon]\n",
    "        codon = \"\"\n",
    "print(aad)"
   ]
  },
  {
   "cell_type": "code",
   "execution_count": 22,
   "metadata": {},
   "outputs": [
    {
     "name": "stdout",
     "output_type": "stream",
     "text": [
      "64\n"
     ]
    }
   ],
   "source": [
    "diffcd = 0\n",
    "for c,i in enumerate(aac):\n",
    "    if i != aad[c]:\n",
    "        diffcd += 1\n",
    "        \n",
    "print(diffcd)"
   ]
  },
  {
   "cell_type": "code",
   "execution_count": 23,
   "metadata": {},
   "outputs": [
    {
     "name": "stdout",
     "output_type": "stream",
     "text": [
      "167\n"
     ]
    }
   ],
   "source": [
    "diffcm = 0\n",
    "for c,i in enumerate(aac):\n",
    "    if i != aam[c]:\n",
    "        diffcm += 1\n",
    "        \n",
    "print(diffcm)"
   ]
  },
  {
   "cell_type": "code",
   "execution_count": 24,
   "metadata": {},
   "outputs": [
    {
     "name": "stdout",
     "output_type": "stream",
     "text": [
      "175\n"
     ]
    }
   ],
   "source": [
    "diffmd = 0\n",
    "for c,i in enumerate(aad):\n",
    "    if i != aam[c]:\n",
    "        diffmd += 1\n",
    "        \n",
    "print(diffmd)"
   ]
  },
  {
   "cell_type": "code",
   "execution_count": 18,
   "metadata": {},
   "outputs": [],
   "source": [
    "def transcribe(DNA):\n",
    "    RNA = \"\"\n",
    "    for i in DNA:\n",
    "        if i == \"A\":\n",
    "            RNA += \"U\"\n",
    "        elif i == \"T\":\n",
    "            RNA += \"A\"\n",
    "        elif i == \"G\":\n",
    "            RNA += \"C\"\n",
    "        else:\n",
    "            RNA += \"G\"\n",
    "    return RNA"
   ]
  },
  {
   "cell_type": "code",
   "execution_count": 19,
   "metadata": {},
   "outputs": [
    {
     "name": "stdout",
     "output_type": "stream",
     "text": [
      "AUGAAAGUCCUCAUCCUUGCCUGUCUGGUGGCUCUUGCUCUUGCAAGGGAGAAGGAAGAUACUGUAUCUACUAAGAGUGUAGACUAUUUUUCAAGCAGUGAGGAAUCUGUUACACAAAUUGACAAGCAAAAAUCUGAGAGGGUUAGACCUGAGGAACAGCAAAGAGAGGAUGAAUGCCAGGAUAAAAUCCAGCCCCUUUUCCAGCUGCAGCCUCUAGUCUAUCCUUACGCUGAGCCCAUUCCUUAUACCGUUGUUCCAUCAAGUGCCAUGCCUCCUGCUCAGCCUGUUGUGGUGCUGCCUUUCCUCCAGCCUGAAAUAAUGGAAUUCCCUGAAGCUAAAGAAACCAUCUUUCCUAGGCAAAAAGUGAUGUCCUUCCUUAAGUCUCCAAUAAUUUCCCCUGUUGACCCCCAGAUCCUGUAUCUCACUAAUCCUGAAAAUUUUCACCUUCCUCUGCCUCUGCUCCAGCCAUUAAGGCACCAGCUCCACCAGCCUCUUGCUCAGACUCCAGUGCUUCCUUCUCUCUCCUUGCCCAAAGUCCUGCCUGUUCCCCAGGAAGGGAUACCCUAUGCCCAGAGAGGUAUACCCAUCCAAGAGCCUCUACUUGACCCAGUCCGUGUGUUCCAC\n"
     ]
    }
   ],
   "source": [
    "life = transcribe(manatee)\n",
    "print(life)"
   ]
  },
  {
   "cell_type": "code",
   "execution_count": 20,
   "metadata": {},
   "outputs": [],
   "source": [
    "def translate(RNA):\n",
    "    aa = \"\"\n",
    "    codon = \"\"\n",
    "    for i in RNA:\n",
    "        if len(codon) != 3:\n",
    "            codon += i\n",
    "        if len(codon) == 3:\n",
    "            aa += codonDict[codon]\n",
    "            codon = \"\"\n",
    "    return aa"
   ]
  },
  {
   "cell_type": "code",
   "execution_count": 21,
   "metadata": {},
   "outputs": [
    {
     "data": {
      "text/plain": [
       "'MKVLILACLVALALAREKEDTVSTKSVDYFSSSEESVTQIDKQKSERVRPEEQQREDECQDKIQPLFQLQPLVYPYAEPIPYTVVPSSAMPPAQPVVVLPFLQPEIMEFPEAKETIFPRQKVMSFLKSPIISPVDPQILYLTNPENFHLPLPLLQPLRHQLHQPLAQTPVLPSLSLPKVLPVPQEGIPYAQRGIPIQEPLLDPVRVFH'"
      ]
     },
     "execution_count": 21,
     "metadata": {},
     "output_type": "execute_result"
    }
   ],
   "source": [
    "translate(life)"
   ]
  },
  {
   "cell_type": "code",
   "execution_count": 46,
   "metadata": {},
   "outputs": [],
   "source": [
    "def difference(sequence1, sequence2):\n",
    "    diff = 0\n",
    "    for c,i in enumerate(sequence1):\n",
    "        if i != sequence2[c]:\n",
    "            diff += 1\n",
    "    return diff/ len(sequence1) * 100"
   ]
  },
  {
   "cell_type": "code",
   "execution_count": 56,
   "metadata": {},
   "outputs": [
    {
     "name": "stdout",
     "output_type": "stream",
     "text": [
      "18.58974358974359\n",
      "62.5\n",
      "63.78205128205128\n"
     ]
    }
   ],
   "source": [
    "print(difference(dolphin, cow))\n",
    "print(difference(manatee, cow))\n",
    "print(difference(dolphin, manatee))"
   ]
  },
  {
   "cell_type": "code",
   "execution_count": 57,
   "metadata": {},
   "outputs": [
    {
     "name": "stdout",
     "output_type": "stream",
     "text": [
      "30.76923076923077\n",
      "80.28846153846155\n",
      "84.13461538461539\n"
     ]
    }
   ],
   "source": [
    "print(difference(aad, aac))\n",
    "print(difference(aam, aac))\n",
    "print(difference(aad, aam))"
   ]
  },
  {
   "cell_type": "code",
   "execution_count": null,
   "metadata": {},
   "outputs": [],
   "source": []
  },
  {
   "cell_type": "code",
   "execution_count": null,
   "metadata": {},
   "outputs": [],
   "source": []
  }
 ],
 "metadata": {
  "kernelspec": {
   "display_name": "Python 3",
   "language": "python",
   "name": "python3"
  },
  "language_info": {
   "codemirror_mode": {
    "name": "ipython",
    "version": 3
   },
   "file_extension": ".py",
   "mimetype": "text/x-python",
   "name": "python",
   "nbconvert_exporter": "python",
   "pygments_lexer": "ipython3",
   "version": "3.7.3"
  }
 },
 "nbformat": 4,
 "nbformat_minor": 2
}
